{
 "cells": [
  {
   "cell_type": "markdown",
   "metadata": {
    "id": "UU_8DdFSASV4"
   },
   "source": [
    "# Display image\n",
    "\n",
    "\n",
    "*Autor: Milo Charavet*\n",
    "\n",
    "---\n",
    "\n",
    "\n",
    "\n",
    "Here I have created the functions used to pass events from .npz files to\n",
    "images where each PMT is a pixel."
   ]
  },
  {
   "cell_type": "code",
   "execution_count": 1,
   "metadata": {
    "id": "MDhktgQaEAk1"
   },
   "outputs": [],
   "source": [
    "# Import libraries\n",
    "\n",
    "%matplotlib notebook\n",
    "import numpy as np\n",
    "from mpl_toolkits.mplot3d import Axes3D\n",
    "import matplotlib.pyplot as plt\n",
    "import pandas as pd\n",
    "import seaborn as sns\n",
    "import plotly.express as px\n",
    "from matplotlib import animation\n",
    "from tqdm.notebook import tqdm\n",
    "import math\n",
    "import h5py\n",
    "import altair as alt\n",
    "from pathlib import Path\n",
    "from math import sqrt"
   ]
  },
  {
   "cell_type": "markdown",
   "metadata": {},
   "source": [
    "## Convert geometry coordinates to array of IDs\n",
    "\n",
    "In order to generate an image where each PMT is represented as a pixel, it is necessary to map each coordinate in the space of the PMT to a pixel of the plane.\n",
    "\n",
    "To do this, the following function is used that receives the .npz geometry file and returns a matrix where each pixel is a pmt of the barrel."
   ]
  },
  {
   "cell_type": "code",
   "execution_count": 4,
   "metadata": {},
   "outputs": [],
   "source": [
    "data = np.load('/Users/macbookairdemilo/Desktop/simulations/wcsim_output_example.npz', allow_pickle=True)"
   ]
  },
  {
   "cell_type": "code",
   "execution_count": null,
   "metadata": {
    "id": "SlTd4Mg1DxK3"
   },
   "outputs": [],
   "source": [
    "geo = np.load('/content/drive/Shareddrives/HK-Mexico/datos/SK_geo.npz', allow_pickle=True)"
   ]
  },
  {
   "cell_type": "code",
   "execution_count": null,
   "metadata": {
    "id": "7zzAVNwbEFbh"
   },
   "outputs": [],
   "source": [
    "def to_cylindrical(coords):\n",
    "    x, y, z = coords[0], coords[1], coords[2]\n",
    "    ro = sqrt(x**2 + y**2)\n",
    "    theta = np.arctan2(y, x)\n",
    "    return  ro, theta, z\n",
    "\n",
    "def unroll_geometry(geo_file):\n",
    "    \n",
    "    # PMT positions are passed to cylindrical coordinates.\n",
    "    cyl_coords = np.array([to_cylindrical(coords) for coords in geo_file['position']])\n",
    "\n",
    "\n",
    "    pmt_pos = {\n",
    "        'id': geo_file['tube_no'],\n",
    "        'theta': cyl_coords[:, 1],\n",
    "        'z': geo_file['position'][:,2],\n",
    "    }\n",
    "    pmt_pos = pd.DataFrame(pmt_pos)\n",
    "    pmt_pos = pmt_pos.sort_values(by=['z', 'theta'])\n",
    "\n",
    "    pmt_pos = pmt_pos[abs(pmt_pos['z']) < 1750]\n",
    "\n",
    "    image = [[ int(pmt_pos.iloc[0]['id']) ]]\n",
    "    current_row = 0\n",
    "    last_z = pmt_pos.iloc[0]['z']\n",
    "\n",
    "    for i in range(1, len(pmt_pos)):\n",
    "        pmt = pmt_pos.iloc[i]\n",
    "\n",
    "        if abs(last_z - pmt['z']) > 0.001 :\n",
    "            image.append([])\n",
    "            current_row += 1\n",
    "        last_z = pmt['z']\n",
    "        image[current_row].append(int(pmt['id']))\n",
    "\n",
    "    return np.array(image)"
   ]
  },
  {
   "cell_type": "markdown",
   "metadata": {
    "id": "-hC9GrV5HKXG"
   },
   "source": [
    "## Convert WCSim event to image\n",
    "\n",
    "Now we will convert the event to image."
   ]
  },
  {
   "cell_type": "code",
   "execution_count": null,
   "metadata": {
    "id": "HgGAfDCcIJim"
   },
   "outputs": [],
   "source": [
    "event = {\n",
    "  'id': data['digi_hit_pmt'][0],\n",
    "  'charge': data['digi_hit_charge'][0],\n",
    "  'time': data['digi_hit_time'][0],\n",
    "}\n",
    "\n",
    "event = pd.DataFrame(event)"
   ]
  },
  {
   "cell_type": "code",
   "execution_count": null,
   "metadata": {
    "id": "QNbC7mw4MAhU"
   },
   "outputs": [],
   "source": [
    "map = {  }\n",
    "\n",
    "for i in range(len(mask)):\n",
    "    for j in range(len(mask[i])):\n",
    "        pmt_id = mask[i][j]\n",
    "        map[pmt_id] = (i, j)"
   ]
  },
  {
   "cell_type": "code",
   "execution_count": null,
   "metadata": {
    "id": "KKpnxqouLhh1"
   },
   "outputs": [],
   "source": [
    "def to_image(event):\n",
    "    \"\"\" Receives event dataframe (id, charge, time) and returns an array of the image.\"\"\"\n",
    "  \n",
    "    event_image = np.zeros(mask.shape + (2,))\n",
    "\n",
    "    for index, pmt in event.iterrows():\n",
    "        id = pmt['id']\n",
    "        charge = pmt['charge']\n",
    "        time = pmt['time']\n",
    "\n",
    "    if id in map:\n",
    "        (i_mask, j_mask) = map[id]\n",
    "        event_image[i_mask][j_mask] = np.array([charge, time])\n",
    "\n",
    "    return event_image"
   ]
  },
  {
   "cell_type": "code",
   "execution_count": null,
   "metadata": {
    "id": "cD_9YiuKRRyF"
   },
   "outputs": [],
   "source": [
    "event_image = to_image(event)"
   ]
  },
  {
   "cell_type": "code",
   "execution_count": null,
   "metadata": {
    "colab": {
     "base_uri": "https://localhost:8080/",
     "height": 182
    },
    "id": "xv1oWIpCKwz0",
    "outputId": "f9b95b37-5087-4e73-a6fb-0bf06fe095b6"
   },
   "outputs": [
    {
     "data": {
      "text/plain": [
       "<matplotlib.image.AxesImage at 0x7feeab3b23c8>"
      ]
     },
     "execution_count": 19,
     "metadata": {
      "tags": []
     },
     "output_type": "execute_result"
    },
    {
     "data": {
      "image/png": "[encoded data removed]",
      "text/plain": [
       "<Figure size 432x288 with 1 Axes>"
      ]
     },
     "metadata": {
      "needs_background": "light",
      "tags": []
     },
     "output_type": "display_data"
    }
   ],
   "source": [
    "plt.imshow(event_image[:, :, 0])"
   ]
  }
 ],
 "metadata": {
  "colab": {
   "provenance": [],
   "toc_visible": true
  },
  "kernelspec": {
   "display_name": "Python 3 (ipykernel)",
   "language": "python",
   "name": "python3"
  },
  "language_info": {
   "codemirror_mode": {
    "name": "ipython",
    "version": 3
   },
   "file_extension": ".py",
   "mimetype": "text/x-python",
   "name": "python",
   "nbconvert_exporter": "python",
   "pygments_lexer": "ipython3",
   "version": "3.10.9"
  }
 },
 "nbformat": 4,
 "nbformat_minor": 1
}
